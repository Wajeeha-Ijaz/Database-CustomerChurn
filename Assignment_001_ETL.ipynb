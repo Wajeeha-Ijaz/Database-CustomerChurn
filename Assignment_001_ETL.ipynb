{
 "cells": [
  {
   "cell_type": "code",
   "execution_count": 1,
   "id": "d9a4397c",
   "metadata": {},
   "outputs": [],
   "source": [
    "import pandas as pd"
   ]
  },
  {
   "cell_type": "code",
   "execution_count": 2,
   "id": "2a6671bf",
   "metadata": {},
   "outputs": [],
   "source": [
    "data = pd.read_csv('WA_Fn-UseC_-Telco-Customer-Churn.csv')"
   ]
  },
  {
   "cell_type": "code",
   "execution_count": 3,
   "id": "245fb9cb",
   "metadata": {},
   "outputs": [],
   "source": [
    "Customer = data[['customerID','gender','SeniorCitizen','Partner','Dependents','tenure']]\n",
    "Services = data[['customerID','MultipleLines','InternetService','OnlineSecurity','OnlineBackup','DeviceProtection','TechSupport','StreamingTV','StreamingMovies']]\n",
    "Payments = data[['customerID','PaymentMethod',]]\n",
    "Billing = data[['customerID','ContractType','PaperlessBilling','MonthlyCharges','TotalCharges','Churn']]"
   ]
  },
  {
   "cell_type": "code",
   "execution_count": 13,
   "id": "ca47d793",
   "metadata": {},
   "outputs": [],
   "source": [
    "Services.loc[:, 'ServiceID'] = range(1, len(Services) + 1)"
   ]
  },
  {
   "cell_type": "code",
   "execution_count": 14,
   "id": "640e5581",
   "metadata": {},
   "outputs": [],
   "source": [
    "Payments.loc[:, 'PaymentID'] = range(1, len(Payments) + 1)"
   ]
  },
  {
   "cell_type": "code",
   "execution_count": 15,
   "id": "a772f5d9",
   "metadata": {},
   "outputs": [],
   "source": [
    "Billing.loc[:, 'BillingID'] = range(1, len(Billing) + 1)"
   ]
  },
  {
   "cell_type": "code",
   "execution_count": 7,
   "id": "6f235d22",
   "metadata": {},
   "outputs": [],
   "source": [
    "Services.loc[:, 'ServiceID'] = Services['ServiceID'] + 7044\n",
    "Payments.loc[:, 'PaymentID'] = Payments['PaymentID'] + 7044 \n",
    "Billing.loc[:, 'BillingID'] = Billing['BillingID'] + 7044"
   ]
  },
  {
   "cell_type": "code",
   "execution_count": 8,
   "id": "2f0975b9",
   "metadata": {},
   "outputs": [
    {
     "name": "stdout",
     "output_type": "stream",
     "text": [
      "Customer Table:\n",
      "   customerID  gender  SeniorCitizen Partner Dependents  tenure\n",
      "0  7590-VHVEG  Female              0     Yes         No       1\n",
      "1  5575-GNVDE    Male              0      No         No      34\n",
      "2  3668-QPYBK    Male              0      No         No       2\n",
      "3  7795-CFOCW    Male              0      No         No      45\n",
      "4  9237-HQITU  Female              0      No         No       2\n",
      "\n",
      "Services Table:\n",
      "   customerID     MultipleLines InternetService OnlineSecurity OnlineBackup  \\\n",
      "0  7590-VHVEG  No phone service             DSL             No          Yes   \n",
      "1  5575-GNVDE                No             DSL            Yes           No   \n",
      "2  3668-QPYBK                No             DSL            Yes          Yes   \n",
      "3  7795-CFOCW  No phone service             DSL            Yes           No   \n",
      "4  9237-HQITU                No     Fiber optic             No           No   \n",
      "\n",
      "  DeviceProtection TechSupport StreamingTV StreamingMovies  ServiceID  \n",
      "0               No          No          No              No       7045  \n",
      "1              Yes          No          No              No       7046  \n",
      "2               No          No          No              No       7047  \n",
      "3              Yes         Yes          No              No       7048  \n",
      "4               No          No          No              No       7049  \n",
      "\n",
      "Payments Table:\n",
      "   customerID              PaymentMethod  PaymentID\n",
      "0  7590-VHVEG           Electronic check       7045\n",
      "1  5575-GNVDE               Mailed check       7046\n",
      "2  3668-QPYBK               Mailed check       7047\n",
      "3  7795-CFOCW  Bank transfer (automatic)       7048\n",
      "4  9237-HQITU           Electronic check       7049\n",
      "\n",
      "Billing Table:\n",
      "   customerID    ContractType PaperlessBilling  MonthlyCharges TotalCharges  \\\n",
      "0  7590-VHVEG  Month-to-month              Yes           29.85        29.85   \n",
      "1  5575-GNVDE        One year               No           56.95       1889.5   \n",
      "2  3668-QPYBK  Month-to-month              Yes           53.85       108.15   \n",
      "3  7795-CFOCW        One year               No           42.30      1840.75   \n",
      "4  9237-HQITU  Month-to-month              Yes           70.70       151.65   \n",
      "\n",
      "  Churn  BillingID  \n",
      "0    No       7045  \n",
      "1    No       7046  \n",
      "2   Yes       7047  \n",
      "3    No       7048  \n",
      "4   Yes       7049  \n"
     ]
    }
   ],
   "source": [
    "print(\"Customer Table:\")\n",
    "print(Customer.head())\n",
    "\n",
    "print(\"\\nServices Table:\")\n",
    "print(Services.head())\n",
    "\n",
    "print(\"\\nPayments Table:\")\n",
    "print(Payments.head())\n",
    "\n",
    "print(\"\\nBilling Table:\")\n",
    "print(Billing.head())"
   ]
  },
  {
   "cell_type": "code",
   "execution_count": 9,
   "id": "23245aaa",
   "metadata": {},
   "outputs": [],
   "source": [
    "Services.loc[:, 'ServiceID'] = 'S' + Services['ServiceID'].astype(str).str.zfill(3)\n",
    "Payments.loc[:, 'PaymentID'] = 'P' + Payments['PaymentID'].astype(str).str.zfill(3)\n",
    "Billing.loc[:, 'BillingID'] = 'B' + Billing['BillingID'].astype(str).str.zfill(3)"
   ]
  },
  {
   "cell_type": "code",
   "execution_count": 12,
   "id": "d6f481a6",
   "metadata": {},
   "outputs": [],
   "source": [
    "Customer.to_csv('customer.csv', index=False)\n",
    "Services.to_csv('Services.csv', index=False)\n",
    "Payments.to_csv('Payments.csv', index=False)\n",
    "Billing.to_csv('Billing.csv', index=False)"
   ]
  },
  {
   "cell_type": "code",
   "execution_count": null,
   "id": "2013f6e7",
   "metadata": {},
   "outputs": [],
   "source": []
  }
 ],
 "metadata": {
  "kernelspec": {
   "display_name": "Python 3 (ipykernel)",
   "language": "python",
   "name": "python3"
  },
  "language_info": {
   "codemirror_mode": {
    "name": "ipython",
    "version": 3
   },
   "file_extension": ".py",
   "mimetype": "text/x-python",
   "name": "python",
   "nbconvert_exporter": "python",
   "pygments_lexer": "ipython3",
   "version": "3.11.5"
  }
 },
 "nbformat": 4,
 "nbformat_minor": 5
}
